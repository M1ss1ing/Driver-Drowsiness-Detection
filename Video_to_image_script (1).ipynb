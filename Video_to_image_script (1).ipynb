{
 "cells": [
  {
   "cell_type": "markdown",
   "metadata": {},
   "source": [
    "# Video to Image"
   ]
  },
  {
   "cell_type": "code",
   "execution_count": 16,
   "metadata": {},
   "outputs": [
    {
     "name": "stdout",
     "output_type": "stream",
     "text": [
      "Starting converting 55\n",
      "Starting converting part 0\n",
      "Starting converting part 5\n",
      "Starting converting part 10\n",
      "Starting converting 56\n",
      "Starting converting part 0\n",
      "Starting converting part 5\n",
      "Starting converting part 10\n",
      "Starting converting 57\n",
      "Starting converting part 0\n",
      "Starting converting part 5\n",
      "Starting converting part 10\n",
      "Starting converting 58\n",
      "Starting converting part 0\n",
      "Starting converting part 5\n",
      "Starting converting part 10\n",
      "Starting converting 59\n",
      "Starting converting part 0\n",
      "Starting converting part 5\n",
      "Starting converting part 10\n",
      "Starting converting 60\n",
      "Starting converting part 0\n",
      "Starting converting part 5\n",
      "Starting converting part 10\n",
      "DONE!\n"
     ]
    }
   ],
   "source": [
    "#Converting video to image for every second/30 frames\n",
    "\n",
    "import cv2\n",
    "import math\n",
    "\n",
    "for i in range(32, 33):\n",
    "    print(\"Starting converting \" + str(i))\n",
    "    for j in range(0, 11, 5):\n",
    "        print(\"Starting converting part \" + str(j))\n",
    "        videoFile = \"D:/video_data/Fold5_part2/\" + str(i) + \"/\" + str(j) + \".mp4\"\n",
    "        imagesFolder = \"D:/image_data/\" + str(i) + \"/\" + str(j)\n",
    "        cap = cv2.VideoCapture(videoFile)\n",
    "        frameRate = cap.get(5) #frame rate\n",
    "        while(cap.isOpened()):\n",
    "            frameId = cap.get(1) #current frame number\n",
    "            ret, frame = cap.read()\n",
    "            if (ret != True):\n",
    "                break\n",
    "            if (frameId % math.floor(frameRate) == 0):\n",
    "                filename = imagesFolder + \"/image_\" +  str(int(frameId)) + \".jpg\"\n",
    "                cv2.imwrite(filename, frame)\n",
    "        cap.release()\n",
    "print(\"DONE!\")\n",
    "    "
   ]
  },
  {
   "cell_type": "markdown",
   "metadata": {},
   "source": [
    "# Other things"
   ]
  },
  {
   "cell_type": "code",
   "execution_count": 6,
   "metadata": {},
   "outputs": [
    {
     "name": "stdout",
     "output_type": "stream",
     "text": [
      "Starting converting 49\n",
      "Starting converting part 10\n",
      "DONE!\n"
     ]
    }
   ],
   "source": [
    "import cv2\n",
    "import math\n",
    "\n",
    "i = 49\n",
    "print(\"Starting converting \" + str(i))\n",
    "j = 10\n",
    "print(\"Starting converting part \" + str(j))\n",
    "videoFile = \"D:/video_data/Fold5_part1/\" + str(i) + \"/\" + str(j) + \"_2.mp4\"\n",
    "imagesFolder = \"D:/image_data/\" + str(i) + \"/\" + str(j)\n",
    "cap = cv2.VideoCapture(videoFile)\n",
    "frameRate = cap.get(5) #frame rate\n",
    "while(cap.isOpened()):\n",
    "    frameId = cap.get(1) #current frame number\n",
    "    ret, frame = cap.read()\n",
    "    if (ret != True):\n",
    "        break\n",
    "    if (frameId % math.floor(frameRate) == 0):\n",
    "        filename = imagesFolder + \"/image_\" +  str(int(frameId)) + \"_2.jpg\"\n",
    "        cv2.imwrite(filename, frame)\n",
    "cap.release()\n",
    "print(\"DONE!\")\n",
    "    "
   ]
  },
  {
   "cell_type": "code",
   "execution_count": 1,
   "metadata": {},
   "outputs": [],
   "source": [
    "import cv2\n",
    "import os\n",
    "\n",
    "videoFile = \"D:/video_data/Fold5_part1/\"\n",
    "imageFolder = \"D:/first 1 mintue/\"\n",
    "\n",
    "\n",
    "for i in range(50,55):\n",
    "    for j in range(0,11,5):\n",
    "        cap = cv2.VideoCapture(videoFile + str(i) + \"/\" + str(j) + \".mp4\")\n",
    "        current = 0\n",
    "        while(True):\n",
    "            ret,frame = cap.read()\n",
    "            \n",
    "            if ret == True and current <= 1800:\n",
    "                name = imageFolder + str(i) + \"/\" + str(j) + \"/\" + str(current)+ \".jpg\"\n",
    "                cv2.imwrite(name, frame)\n",
    "            else:\n",
    "                break\n",
    "            current += 1\n",
    "        \n",
    "cap.release()\n",
    "cv2.destroyAllWindows()\n",
    "\n",
    "videoFile = \"D:/video_data/Fold5_part2/\"\n",
    "imageFolder = \"D:/first 1 mintue/\"\n",
    "\n",
    "\n",
    "for i in range(55,61):\n",
    "    for j in range(0,11,5):\n",
    "        cap = cv2.VideoCapture(videoFile + str(i) + \"/\" + str(j) + \".mp4\")\n",
    "        current = 0\n",
    "        while(True):\n",
    "            ret,frame = cap.read()\n",
    "            \n",
    "            if ret == True and current <= 1800:\n",
    "                name = imageFolder + str(i) + \"/\" + str(j) + \"/\" + str(current)+ \".jpg\"\n",
    "                cv2.imwrite(name, frame)\n",
    "            else:\n",
    "                break\n",
    "            current += 1\n",
    "        \n",
    "cap.release()\n",
    "cv2.destroyAllWindows()\n",
    "\n"
   ]
  },
  {
   "cell_type": "code",
   "execution_count": null,
   "metadata": {},
   "outputs": [],
   "source": []
  },
  {
   "cell_type": "code",
   "execution_count": null,
   "metadata": {},
   "outputs": [],
   "source": []
  },
  {
   "cell_type": "code",
   "execution_count": null,
   "metadata": {},
   "outputs": [],
   "source": []
  },
  {
   "cell_type": "code",
   "execution_count": null,
   "metadata": {},
   "outputs": [],
   "source": []
  }
 ],
 "metadata": {
  "kernelspec": {
   "display_name": "Python 3 (ipykernel)",
   "language": "python",
   "name": "python3"
  },
  "language_info": {
   "codemirror_mode": {
    "name": "ipython",
    "version": 3
   },
   "file_extension": ".py",
   "mimetype": "text/x-python",
   "name": "python",
   "nbconvert_exporter": "python",
   "pygments_lexer": "ipython3",
   "version": "3.9.12"
  }
 },
 "nbformat": 4,
 "nbformat_minor": 4
}
