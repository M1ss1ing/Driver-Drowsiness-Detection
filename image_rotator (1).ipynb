{
 "cells": [
  {
   "cell_type": "markdown",
   "metadata": {},
   "source": [
    "# Image Rotator"
   ]
  },
  {
   "cell_type": "code",
   "execution_count": 22,
   "metadata": {},
   "outputs": [
    {
     "name": "stdout",
     "output_type": "stream",
     "text": [
      "Done!\n"
     ]
    }
   ],
   "source": [
    "#Simple image rotator script\n",
    "\n",
    "from PIL import Image\n",
    "import os\n",
    "\n",
    "def rotateImages(rotationAmt, path):\n",
    "      # for each image in the current directory\n",
    "    for image in os.listdir(path):\n",
    "        # open the image\n",
    "        img = Image.open(path + \"/\" + image)\n",
    "        # rotate and save the image with the same filename\n",
    "        img.rotate(rotationAmt).save(path + \"/\" + image)\n",
    "        # close the image\n",
    "        img.close()\n",
    "    print(\"Done!\")\n",
    "    \n",
    "\n",
    "path = \"D:/first 1 mintue/59/10\"\n",
    "rotateImages(270, path)"
   ]
  },
  {
   "cell_type": "code",
   "execution_count": null,
   "metadata": {},
   "outputs": [],
   "source": []
  }
 ],
 "metadata": {
  "kernelspec": {
   "display_name": "Python 3",
   "language": "python",
   "name": "python3"
  },
  "language_info": {
   "codemirror_mode": {
    "name": "ipython",
    "version": 3
   },
   "file_extension": ".py",
   "mimetype": "text/x-python",
   "name": "python",
   "nbconvert_exporter": "python",
   "pygments_lexer": "ipython3",
   "version": "3.7.10"
  }
 },
 "nbformat": 4,
 "nbformat_minor": 4
}
