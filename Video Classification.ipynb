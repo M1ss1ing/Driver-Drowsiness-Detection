{
 "cells": [
  {
   "cell_type": "markdown",
   "id": "advisory-palestinian",
   "metadata": {},
   "source": [
    "# Video Classification"
   ]
  },
  {
   "cell_type": "code",
   "execution_count": 1,
   "id": "accomplished-stylus",
   "metadata": {},
   "outputs": [],
   "source": [
    "import tensorflow as tf\n",
    "import numpy as np\n",
    "import matplotlib.pyplot as plt\n",
    "from tensorflow import keras\n",
    "from sklearn import metrics\n",
    "\n",
    "import cv2\n",
    "\n",
    "import dlib\n",
    "from scipy.spatial import distance as dist\n",
    "from tqdm import tqdm\n",
    "import os"
   ]
  },
  {
   "cell_type": "code",
   "execution_count": null,
   "id": "hungry-alias",
   "metadata": {},
   "outputs": [],
   "source": []
  },
  {
   "cell_type": "code",
   "execution_count": 3,
   "id": "innocent-iraqi",
   "metadata": {},
   "outputs": [],
   "source": [
    "def video_classification(model, data_path):\n",
    "    correct = 0\n",
    "    total = 0\n",
    "\n",
    "    for person in tqdm(os.listdir(data_path)):\n",
    "        for state in os.listdir(data_path + \"/\" + person):\n",
    "            x_test = np.load(data_path + \"/\" + person + \"/\" + state + \"/\" + \"test.npy\")\n",
    "            y_test = np.load(data_path + \"/\" + person + \"/\" + state + \"/\" + \"label.npy\")\n",
    "            x_test_MLP = np.load(data_path + \"/\" + person + \"/\" + state + \"/\" + \"test_RATIO.npy\")\n",
    "            result = model.evaluate([x_test,x_test_MLP], y_test)\n",
    "            if result[1] > 0.5:\n",
    "                correct += 1\n",
    "                print(\"Guessed it!\")\n",
    "            else:\n",
    "                print(\"Wrong prediction!\")\n",
    "            total += 1\n",
    "    acc = correct/total\n",
    "    print(\"Video classification accuracy of model is \" + str(acc) + \"%.\")"
   ]
  },
  {
   "cell_type": "markdown",
   "id": "electronic-territory",
   "metadata": {},
   "source": [
    "# CNN_MLP 10 Nodes"
   ]
  },
  {
   "cell_type": "code",
   "execution_count": 3,
   "id": "activated-stranger",
   "metadata": {},
   "outputs": [],
   "source": [
    "CNN = keras.models.load_model(\"C:/Users/M1ss1ing/Resnet50_MLP_binary_10N\")"
   ]
  },
  {
   "cell_type": "code",
   "execution_count": 6,
   "id": "australian-wednesday",
   "metadata": {},
   "outputs": [
    {
     "name": "stderr",
     "output_type": "stream",
     "text": [
      "  0%|          | 0/11 [00:00<?, ?it/s]"
     ]
    },
    {
     "name": "stdout",
     "output_type": "stream",
     "text": [
      "1801/1801 [==============================] - 5s 3ms/sample - loss: 2.1865 - accuracy: 0.2599\n",
      "Wrong prediction!\n",
      "1801/1801 [==============================] - 5s 3ms/sample - loss: 1.1692e-05 - accuracy: 1.0000\n",
      "Guessed it!\n",
      "1801/1801 [==============================] - 5s 3ms/sample - loss: 3.7887 - accuracy: 0.1072\n"
     ]
    },
    {
     "name": "stderr",
     "output_type": "stream",
     "text": [
      "  9%|▉         | 1/11 [00:15<02:36, 15.65s/it]"
     ]
    },
    {
     "name": "stdout",
     "output_type": "stream",
     "text": [
      "Wrong prediction!\n",
      "1801/1801 [==============================] - 5s 3ms/sample - loss: 6.9815 - accuracy: 0.2821\n",
      "Wrong prediction!\n",
      "1658/1658 [==============================] - 5s 3ms/sample - loss: 2.2311 - accuracy: 0.6158\n",
      "Guessed it!\n",
      "1753/1753 [==============================] - 5s 3ms/sample - loss: 0.1016 - accuracy: 0.9726\n"
     ]
    },
    {
     "name": "stderr",
     "output_type": "stream",
     "text": [
      " 18%|█▊        | 2/11 [00:30<02:17, 15.28s/it]"
     ]
    },
    {
     "name": "stdout",
     "output_type": "stream",
     "text": [
      "Guessed it!\n",
      "1801/1801 [==============================] - 5s 3ms/sample - loss: 1.9542 - accuracy: 0.3504\n",
      "Wrong prediction!\n",
      "1801/1801 [==============================] - 5s 3ms/sample - loss: 3.6717e-04 - accuracy: 1.00000s - loss: 4.2551e\n",
      "Guessed it!\n",
      "1801/1801 [==============================] - 5s 3ms/sample - loss: 0.7372 - accuracy: 0.7185\n"
     ]
    },
    {
     "name": "stderr",
     "output_type": "stream",
     "text": [
      " 27%|██▋       | 3/11 [00:46<02:03, 15.45s/it]"
     ]
    },
    {
     "name": "stdout",
     "output_type": "stream",
     "text": [
      "Guessed it!\n",
      "1792/1792 [==============================] - 5s 3ms/sample - loss: 8.7818 - accuracy: 0.0312\n",
      "Wrong prediction!\n",
      "1801/1801 [==============================] - 5s 3ms/sample - loss: 1.0741 - accuracy: 0.5508\n",
      "Guessed it!\n",
      "1800/1800 [==============================] - 5s 3ms/sample - loss: 0.0763 - accuracy: 0.9700\n"
     ]
    },
    {
     "name": "stderr",
     "output_type": "stream",
     "text": [
      " 36%|███▋      | 4/11 [01:01<01:48, 15.47s/it]"
     ]
    },
    {
     "name": "stdout",
     "output_type": "stream",
     "text": [
      "Guessed it!\n",
      "1801/1801 [==============================] - 5s 3ms/sample - loss: 3.5618 - accuracy: 0.1571\n",
      "Wrong prediction!\n",
      "1801/1801 [==============================] - 5s 3ms/sample - loss: 0.7151 - accuracy: 0.6019\n",
      "Guessed it!\n",
      "1800/1800 [==============================] - 5s 3ms/sample - loss: 0.2006 - accuracy: 0.9739\n"
     ]
    },
    {
     "name": "stderr",
     "output_type": "stream",
     "text": [
      " 45%|████▌     | 5/11 [01:17<01:32, 15.46s/it]"
     ]
    },
    {
     "name": "stdout",
     "output_type": "stream",
     "text": [
      "Guessed it!\n",
      "1801/1801 [==============================] - 5s 3ms/sample - loss: 0.8994 - accuracy: 0.7118\n",
      "Guessed it!\n",
      "1801/1801 [==============================] - 5s 3ms/sample - loss: 0.0038 - accuracy: 1.0000\n",
      "Guessed it!\n",
      "1779/1779 [==============================] - 5s 3ms/sample - loss: 0.3249 - accuracy: 0.8662\n"
     ]
    },
    {
     "name": "stderr",
     "output_type": "stream",
     "text": [
      " 55%|█████▍    | 6/11 [01:32<01:17, 15.47s/it]"
     ]
    },
    {
     "name": "stdout",
     "output_type": "stream",
     "text": [
      "Guessed it!\n",
      "1801/1801 [==============================] - 5s 3ms/sample - loss: 13.8192 - accuracy: 0.0000e+00\n",
      "Wrong prediction!\n",
      "1084/1084 [==============================] - 3s 3ms/sample - loss: 0.3873 - accuracy: 0.8339\n",
      "Guessed it!\n",
      "1801/1801 [==============================] - 5s 3ms/sample - loss: 0.6391 - accuracy: 0.8234\n"
     ]
    },
    {
     "name": "stderr",
     "output_type": "stream",
     "text": [
      " 64%|██████▎   | 7/11 [01:46<00:59, 14.81s/it]"
     ]
    },
    {
     "name": "stdout",
     "output_type": "stream",
     "text": [
      "Guessed it!\n",
      "1760/1760 [==============================] - 5s 3ms/sample - loss: 4.3308 - accuracy: 0.2006\n",
      "Wrong prediction!\n",
      "1801/1801 [==============================] - 5s 3ms/sample - loss: 9.4198 - accuracy: 0.0627\n",
      "Wrong prediction!\n",
      "1801/1801 [==============================] - 5s 3ms/sample - loss: 0.8992 - accuracy: 0.7601\n"
     ]
    },
    {
     "name": "stderr",
     "output_type": "stream",
     "text": [
      " 73%|███████▎  | 8/11 [02:01<00:44, 15.00s/it]"
     ]
    },
    {
     "name": "stdout",
     "output_type": "stream",
     "text": [
      "Guessed it!\n",
      "39/39 [==============================] - 0s 3ms/sample - loss: 0.4199 - accuracy: 0.8974\n",
      "Guessed it!\n",
      "1554/1554 [==============================] - 4s 3ms/sample - loss: 0.0138 - accuracy: 1.0000\n",
      "Guessed it!\n",
      "1591/1591 [==============================] - 4s 3ms/sample - loss: 0.8685 - accuracy: 0.7549\n"
     ]
    },
    {
     "name": "stderr",
     "output_type": "stream",
     "text": [
      " 82%|████████▏ | 9/11 [02:10<00:26, 13.18s/it]"
     ]
    },
    {
     "name": "stdout",
     "output_type": "stream",
     "text": [
      "Guessed it!\n",
      "1801/1801 [==============================] - 5s 3ms/sample - loss: 10.7575 - accuracy: 0.0000e+00\n",
      "Wrong prediction!\n",
      "1801/1801 [==============================] - 5s 3ms/sample - loss: 0.0023 - accuracy: 1.0000\n",
      "Guessed it!\n",
      "1801/1801 [==============================] - 5s 3ms/sample - loss: 0.0012 - accuracy: 1.0000TA: 3s -\n"
     ]
    },
    {
     "name": "stderr",
     "output_type": "stream",
     "text": [
      " 91%|█████████ | 10/11 [02:26<00:13, 13.93s/it]"
     ]
    },
    {
     "name": "stdout",
     "output_type": "stream",
     "text": [
      "Guessed it!\n",
      "1699/1699 [==============================] - 5s 3ms/sample - loss: 5.4056 - accuracy: 0.2896\n",
      "Wrong prediction!\n",
      "1801/1801 [==============================] - 5s 3ms/sample - loss: 0.2643 - accuracy: 0.9051\n",
      "Guessed it!\n",
      "1772/1772 [==============================] - 5s 3ms/sample - loss: 8.1768 - accuracy: 0.0265\n"
     ]
    },
    {
     "name": "stderr",
     "output_type": "stream",
     "text": [
      "100%|██████████| 11/11 [02:41<00:00, 14.70s/it]"
     ]
    },
    {
     "name": "stdout",
     "output_type": "stream",
     "text": [
      "Wrong prediction!\n",
      "Video classification accuracy of model is 0.6363636363636364%.\n"
     ]
    },
    {
     "name": "stderr",
     "output_type": "stream",
     "text": [
      "\n"
     ]
    }
   ],
   "source": [
    "video_classification(CNN, \"C:/Users/M1ss1ing/minute\")"
   ]
  },
  {
   "cell_type": "code",
   "execution_count": 5,
   "id": "compressed-appeal",
   "metadata": {},
   "outputs": [],
   "source": [
    "x = np.load(\"C:/Users/M1ss1ing/minute/56/0/test_RATIO.npy\")\n",
    "y = np.load(\"C:/Users/M1ss1ing/minute/56/5/test_RATIO.npy\")\n",
    "z = np.load(\"C:/Users/M1ss1ing/minute/56/10/test_RATIO.npy\")"
   ]
  },
  {
   "cell_type": "code",
   "execution_count": 6,
   "id": "meaning-organ",
   "metadata": {},
   "outputs": [
    {
     "data": {
      "text/plain": [
       "array([[ 0.3031242 ,  0.39377631,  1.29905927,  0.29977223,  1.7540942 ,\n",
       "         1.06327149],\n",
       "       [ 0.30379233,  0.3869919 ,  1.27386989,  0.38286661,  1.24220311,\n",
       "         0.65557135],\n",
       "       [ 0.29297932,  0.35748339,  1.22016594, -0.96194414, -0.98424568,\n",
       "        -0.21364806],\n",
       "       [ 0.30551966,  0.34450905,  1.12761661,  0.59769518, -1.96317366,\n",
       "        -1.71159539],\n",
       "       [ 0.31145868,  0.3784791 ,  1.21518238,  1.33632878,  0.59990337,\n",
       "        -0.29430895],\n",
       "       [ 0.30247859,  0.37996251,  1.25616332,  0.21947769,  0.71182834,\n",
       "         0.36898357],\n",
       "       [ 0.29247499,  0.37464826,  1.28095829, -1.02466744,  0.31086274,\n",
       "         0.77029997],\n",
       "       [ 0.30138401,  0.37520335,  1.24493448,  0.08334522,  0.35274452,\n",
       "         0.18724048],\n",
       "       [ 0.30765134,  0.35645429,  1.1586307 ,  0.86281136, -1.06189221,\n",
       "        -1.20962011],\n",
       "       [ 0.29621636,  0.36146008,  1.22025699, -0.55935422, -0.68419967,\n",
       "        -0.21217447]])"
      ]
     },
     "execution_count": 6,
     "metadata": {},
     "output_type": "execute_result"
    }
   ],
   "source": [
    "x[:10]"
   ]
  },
  {
   "cell_type": "code",
   "execution_count": 7,
   "id": "latter-gallery",
   "metadata": {},
   "outputs": [
    {
     "data": {
      "text/plain": [
       "array([[  0.2807749 ,   0.35571432,   1.26690217,  -2.47980506,\n",
       "         -1.11772339,   0.54279612],\n",
       "       [  0.27356355,   0.35104364,   1.28322517,  -3.37667782,\n",
       "         -1.47013175,   0.80699033],\n",
       "       [  0.27050588,   0.36025254,   1.33177342,  -3.75695991,\n",
       "         -0.7753101 ,   1.59276281],\n",
       "       [  0.29818896,   0.35783692,   1.20003413,  -0.31402295,\n",
       "         -0.95757092,  -0.53948938],\n",
       "       [  0.23248358,   0.36327627,   1.56258896,  -8.48578342,\n",
       "         -0.54716642,   5.32860285],\n",
       "       [  0.21212148,   0.35992501,   1.69678724, -11.01821223,\n",
       "         -0.80002221,   7.5006546 ],\n",
       "       [  0.18741108,   0.35358642,   1.88668901, -14.09143801,\n",
       "         -1.27827602,  10.57428931],\n",
       "       [  0.16351231,   0.36261742,   2.21767656, -17.06372093,\n",
       "         -0.59687699,  15.93145279],\n",
       "       [  0.15525992,   0.35511182,   2.28720853, -18.09006838,\n",
       "         -1.16318279,  17.05685498],\n",
       "       [  0.16171877,   0.35480176,   2.19394303, -17.28678374,\n",
       "         -1.18657708,  15.54731631]])"
      ]
     },
     "execution_count": 7,
     "metadata": {},
     "output_type": "execute_result"
    }
   ],
   "source": [
    "y[:10]"
   ]
  },
  {
   "cell_type": "code",
   "execution_count": 8,
   "id": "dominican-catalyst",
   "metadata": {},
   "outputs": [
    {
     "data": {
      "text/plain": [
       "array([[ 0.27641994,  0.34420416,  1.24522189, -3.02143012, -1.98617792,\n",
       "         0.19189234],\n",
       "       [ 0.27593499,  0.34130167,  1.23689157, -3.08174219, -2.20517384,\n",
       "         0.05706272],\n",
       "       [ 0.26583836,  0.32736279,  1.23143547, -4.33745735, -3.25687709,\n",
       "        -0.03124636],\n",
       "       [ 0.30102257,  0.3603544 ,  1.19710093,  0.03839294, -0.76762456,\n",
       "        -0.58696425],\n",
       "       [ 0.25958869,  0.3432081 ,  1.3221227 , -5.11472747, -2.06133127,\n",
       "         1.43656208],\n",
       "       [ 0.30151789,  0.35883684,  1.19010133,  0.09999539, -0.88212611,\n",
       "        -0.70025553],\n",
       "       [ 0.30679893,  0.3622838 ,  1.18085094,  0.7567969 , -0.62204911,\n",
       "        -0.84997676],\n",
       "       [ 0.3015345 ,  0.37330182,  1.23800698,  0.10206149,  0.20927179,\n",
       "         0.07511607],\n",
       "       [ 0.30666874,  0.3673609 ,  1.19790787,  0.74060593, -0.23897663,\n",
       "        -0.57390375],\n",
       "       [ 0.30108956,  0.35566883,  1.18127251,  0.04672481, -1.12115624,\n",
       "        -0.84315344]])"
      ]
     },
     "execution_count": 8,
     "metadata": {},
     "output_type": "execute_result"
    }
   ],
   "source": [
    "z[:10]"
   ]
  },
  {
   "cell_type": "code",
   "execution_count": null,
   "id": "right-williams",
   "metadata": {},
   "outputs": [],
   "source": []
  },
  {
   "cell_type": "code",
   "execution_count": null,
   "id": "mediterranean-sympathy",
   "metadata": {},
   "outputs": [],
   "source": []
  },
  {
   "cell_type": "code",
   "execution_count": 2,
   "id": "pressed-pendant",
   "metadata": {},
   "outputs": [],
   "source": [
    "CNN2 = keras.models.load_model(\"C:/Users/M1ss1ing/Resnet50_MLP_dropout\")"
   ]
  },
  {
   "cell_type": "code",
   "execution_count": 4,
   "id": "vertical-brazil",
   "metadata": {},
   "outputs": [
    {
     "name": "stderr",
     "output_type": "stream",
     "text": [
      "  0%|          | 0/11 [00:00<?, ?it/s]"
     ]
    },
    {
     "name": "stdout",
     "output_type": "stream",
     "text": [
      "1801/1801 [==============================] - 7s 4ms/sample - loss: 3.4798 - accuracy: 0.0017\n",
      "Wrong prediction!\n",
      "1801/1801 [==============================] - 5s 3ms/sample - loss: 0.0011 - accuracy: 1.0000\n",
      "Guessed it!\n",
      "1801/1801 [==============================] - 5s 3ms/sample - loss: 0.0774 - accuracy: 0.99390s - loss: 0.0786 - accuracy\n"
     ]
    },
    {
     "name": "stderr",
     "output_type": "stream",
     "text": [
      "  9%|▉         | 1/11 [00:19<03:18, 19.84s/it]"
     ]
    },
    {
     "name": "stdout",
     "output_type": "stream",
     "text": [
      "Guessed it!\n",
      "1801/1801 [==============================] - 5s 3ms/sample - loss: 2.6707 - accuracy: 0.1222\n",
      "Wrong prediction!\n",
      "1658/1658 [==============================] - 5s 3ms/sample - loss: 0.1397 - accuracy: 0.9469\n",
      "Guessed it!\n",
      "1753/1753 [==============================] - 5s 3ms/sample - loss: 0.6423 - accuracy: 0.7347\n"
     ]
    },
    {
     "name": "stderr",
     "output_type": "stream",
     "text": [
      " 18%|█▊        | 2/11 [00:37<02:45, 18.39s/it]"
     ]
    },
    {
     "name": "stdout",
     "output_type": "stream",
     "text": [
      "Guessed it!\n",
      "1801/1801 [==============================] - 5s 3ms/sample - loss: 3.8517 - accuracy: 0.0000e+00\n",
      "Wrong prediction!\n",
      "1801/1801 [==============================] - 5s 3ms/sample - loss: 8.5033e-04 - accuracy: 1.0000\n",
      "Guessed it!\n",
      "1801/1801 [==============================] - 5s 3ms/sample - loss: 1.4934 - accuracy: 0.3215\n"
     ]
    },
    {
     "name": "stderr",
     "output_type": "stream",
     "text": [
      " 27%|██▋       | 3/11 [00:54<02:22, 17.86s/it]"
     ]
    },
    {
     "name": "stdout",
     "output_type": "stream",
     "text": [
      "Wrong prediction!\n",
      "1792/1792 [==============================] - 6s 4ms/sample - loss: 12.1139 - accuracy: 0.0000e+00\n",
      "Wrong prediction!\n",
      "1801/1801 [==============================] - 5s 3ms/sample - loss: 0.3913 - accuracy: 0.9456\n",
      "Guessed it!\n",
      "1800/1800 [==============================] - 5s 3ms/sample - loss: 0.0713 - accuracy: 0.9961\n"
     ]
    },
    {
     "name": "stderr",
     "output_type": "stream",
     "text": [
      " 36%|███▋      | 4/11 [01:13<02:07, 18.20s/it]"
     ]
    },
    {
     "name": "stdout",
     "output_type": "stream",
     "text": [
      "Guessed it!\n",
      "1801/1801 [==============================] - 5s 3ms/sample - loss: 3.3250 - accuracy: 0.1077\n",
      "Wrong prediction!\n",
      "1801/1801 [==============================] - 5s 3ms/sample - loss: 0.0213 - accuracy: 0.99891s - los\n",
      "Guessed it!\n",
      "1800/1800 [==============================] - 5s 3ms/sample - loss: 0.0066 - accuracy: 1.0000\n"
     ]
    },
    {
     "name": "stderr",
     "output_type": "stream",
     "text": [
      " 45%|████▌     | 5/11 [01:30<01:47, 17.89s/it]"
     ]
    },
    {
     "name": "stdout",
     "output_type": "stream",
     "text": [
      "Guessed it!\n",
      "1801/1801 [==============================] - 5s 3ms/sample - loss: 1.0736 - accuracy: 0.3509\n",
      "Wrong prediction!\n",
      "1801/1801 [==============================] - 5s 3ms/sample - loss: 0.0187 - accuracy: 1.0000\n",
      "Guessed it!\n",
      "1779/1779 [==============================] - 5s 3ms/sample - loss: 6.3352e-04 - accuracy: 1.0000\n"
     ]
    },
    {
     "name": "stderr",
     "output_type": "stream",
     "text": [
      " 55%|█████▍    | 6/11 [01:48<01:28, 17.80s/it]"
     ]
    },
    {
     "name": "stdout",
     "output_type": "stream",
     "text": [
      "Guessed it!\n",
      "1801/1801 [==============================] - 5s 3ms/sample - loss: 13.4009 - accuracy: 0.0000e+00\n",
      "Wrong prediction!\n",
      "1084/1084 [==============================] - 3s 3ms/sample - loss: 0.0050 - accuracy: 1.0000\n",
      "Guessed it!\n",
      "1801/1801 [==============================] - 5s 3ms/sample - loss: 0.2729 - accuracy: 0.8762\n"
     ]
    },
    {
     "name": "stderr",
     "output_type": "stream",
     "text": [
      " 64%|██████▎   | 7/11 [02:03<01:07, 16.98s/it]"
     ]
    },
    {
     "name": "stdout",
     "output_type": "stream",
     "text": [
      "Guessed it!\n",
      "1760/1760 [==============================] - 5s 3ms/sample - loss: 12.6637 - accuracy: 0.0341\n",
      "Wrong prediction!\n",
      "1801/1801 [==============================] - 5s 3ms/sample - loss: 0.0452 - accuracy: 1.0000\n",
      "Guessed it!\n",
      "1801/1801 [==============================] - 5s 3ms/sample - loss: 0.0143 - accuracy: 0.9978\n"
     ]
    },
    {
     "name": "stderr",
     "output_type": "stream",
     "text": [
      " 73%|███████▎  | 8/11 [02:20<00:51, 17.14s/it]"
     ]
    },
    {
     "name": "stdout",
     "output_type": "stream",
     "text": [
      "Guessed it!\n",
      "39/39 [==============================] - 0s 9ms/sample - loss: 0.5288 - accuracy: 0.8974\n",
      "Guessed it!\n",
      "1554/1554 [==============================] - 5s 3ms/sample - loss: 0.0311 - accuracy: 0.9968\n",
      "Guessed it!\n",
      "1591/1591 [==============================] - 5s 3ms/sample - loss: 0.0328 - accuracy: 1.0000\n"
     ]
    },
    {
     "name": "stderr",
     "output_type": "stream",
     "text": [
      " 82%|████████▏ | 9/11 [02:31<00:30, 15.23s/it]"
     ]
    },
    {
     "name": "stdout",
     "output_type": "stream",
     "text": [
      "Guessed it!\n",
      "1801/1801 [==============================] - 5s 3ms/sample - loss: 4.5692 - accuracy: 0.0000e+00\n",
      "Wrong prediction!\n",
      "1801/1801 [==============================] - 5s 3ms/sample - loss: 0.1034 - accuracy: 0.9550\n",
      "Guessed it!\n",
      "1801/1801 [==============================] - 5s 3ms/sample - loss: 3.9834e-04 - accuracy: 1.0000\n"
     ]
    },
    {
     "name": "stderr",
     "output_type": "stream",
     "text": [
      " 91%|█████████ | 10/11 [02:49<00:15, 15.91s/it]"
     ]
    },
    {
     "name": "stdout",
     "output_type": "stream",
     "text": [
      "Guessed it!\n",
      "1699/1699 [==============================] - 5s 3ms/sample - loss: 11.3114 - accuracy: 0.0041\n",
      "Wrong prediction!\n",
      "1801/1801 [==============================] - 5s 3ms/sample - loss: 2.4226e-08 - accuracy: 1.0000\n",
      "Guessed it!\n",
      "1772/1772 [==============================] - 5s 3ms/sample - loss: 5.2250 - accuracy: 0.1834\n"
     ]
    },
    {
     "name": "stderr",
     "output_type": "stream",
     "text": [
      "100%|██████████| 11/11 [03:06<00:00, 17.00s/it]"
     ]
    },
    {
     "name": "stdout",
     "output_type": "stream",
     "text": [
      "Wrong prediction!\n",
      "Video classification accuracy of model is 0.6363636363636364%.\n"
     ]
    },
    {
     "name": "stderr",
     "output_type": "stream",
     "text": [
      "\n"
     ]
    }
   ],
   "source": [
    "video_classification(CNN2, \"C:/Users/M1ss1ing/minute\")"
   ]
  },
  {
   "cell_type": "code",
   "execution_count": 14,
   "id": "headed-understanding",
   "metadata": {},
   "outputs": [],
   "source": [
    "xtrain = np.load(\"training_data_RBG_v3.npy\")\n",
    "ytrain = np.load(\"training_data_label_v3.npy\")\n",
    "rtrain = np.load(\"training_data_RATIO_v3.npy\")\n",
    "xtest = np.load(\"test_data_RBG_v3.npy\")\n",
    "ytest = np.load(\"test_data_label_v3.npy\")\n",
    "rtest = np.load(\"test_data_RATIO_v3.npy\")"
   ]
  },
  {
   "cell_type": "code",
   "execution_count": 16,
   "id": "sunrise-hearing",
   "metadata": {},
   "outputs": [],
   "source": [
    "ytest = tf.keras.utils.to_categorical(ytest, num_classes=3)"
   ]
  },
  {
   "cell_type": "code",
   "execution_count": null,
   "id": "successful-quick",
   "metadata": {},
   "outputs": [],
   "source": []
  }
 ],
 "metadata": {
  "kernelspec": {
   "display_name": "Python [conda env:tensorflow2] *",
   "language": "python",
   "name": "conda-env-tensorflow2-py"
  },
  "language_info": {
   "codemirror_mode": {
    "name": "ipython",
    "version": 3
   },
   "file_extension": ".py",
   "mimetype": "text/x-python",
   "name": "python",
   "nbconvert_exporter": "python",
   "pygments_lexer": "ipython3",
   "version": "3.7.10"
  }
 },
 "nbformat": 4,
 "nbformat_minor": 5
}
